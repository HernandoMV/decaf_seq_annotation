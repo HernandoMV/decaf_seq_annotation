{
 "cells": [
  {
   "cell_type": "code",
   "execution_count": null,
   "metadata": {
    "collapsed": false
   },
   "outputs": [],
   "source": [
    "from xvfbwrapper import Xvfb\n",
    "\n",
    "vdisplay = Xvfb()\n",
    "vdisplay.start()"
   ]
  },
  {
   "cell_type": "markdown",
   "metadata": {
    "deletable": true,
    "editable": true
   },
   "source": [
    "#  Characterization of novel enzymes from metagenomics data. \n",
    "\n",
    "\n",
    "## 1. Introduction\n",
    "\n",
    "A number of novel sequences are found in metagenomics datasets. In this brief exercise, we will identify and farther analize novel enzymes belonging to the Glycyl Radical Enzyme superfamily using automated pipelines. GRE innovations have been recently reported to exist in gut microbiota, as reported in Levin et al. (2017).\n",
    "\n",
    "http://science.sciencemag.org/content/355/6325/eaai8386.full\n",
    "\n",
    "\n",
    "\n",
    "![GRE_paper](imgs/GRE_paper.png \"GRE paper\")\n",
    "\n",
    "Levin et al. took microbial metagenome data and used a combination of bioinformatic tools to generate a network that clusters sequences of glycyl radical enzyme (GRE) superfamily and identify functional innovations. \n",
    "\n",
    "Experiments verified these homology and structural-chemical inferences. The analysis identified enzymes involved in anaerobic short-chain fatty acid production and L-proline biosynthesis, both of which are key mediators of healthy microbiota-host symbioses.\n",
    "\n"
   ]
  },
  {
   "cell_type": "markdown",
   "metadata": {
    "deletable": true,
    "editable": true
   },
   "source": [
    "### 1.1 Distant GRE homologs found in human gut microbiota\n",
    "\n",
    "<img src=\"imgs/GRE_network.png\" style=\"width: 500px;\"/>\n",
    "\n",
    "(B) An SSN of the GRE superfamily (InterPro version 53.0; IPR004184, PFL domain) was constructed with an initial score of 10−300. The edge score was then refined such that nodes are connected by an edge if the pairwise sequence identity is ≥62% ID. Each of the 1843 nodes within the resulting SSN contains sequences with >95% amino acid identity. "
   ]
  },
  {
   "cell_type": "markdown",
   "metadata": {
    "deletable": true,
    "editable": true
   },
   "source": [
    "### 1.2 Multiple sequence alignment and active residues in reference GRE enzymes\n",
    "\n",
    "<img src=\"imgs/GRE_bindings.png\"  style=\"width: 700px;\"/>\n",
    "\n",
    "(A) Multiple sequence alignment of selected GREs. The regions shown contain residues that occupy the active sites of structurally characterized GREs and homology models of uncharacterized GREs. The residues at the positions marked with **asterisks** are conserved in different characterized GREs and **are known to play roles in substrate binding or catalysis**, making them useful for both identifying known GREs and revealing uncharacterized GREs with potentially distinct activities. Numbering corresponds to PD from R. inulinivorans (uncharacterized GRE cluster 16); accession numbers are from UniProt"
   ]
  },
  {
   "cell_type": "markdown",
   "metadata": {
    "deletable": true,
    "editable": true
   },
   "source": [
    "## 2. DD-DeCaF enzyme discovery and characterization pipeline\n",
    "\n",
    "### 2.1 Identify GRE superfamily members in metagenomics gene catalogs\n",
    "\n",
    "For this exercise, GRE homologs have been pre-searched in several metagenomics datasets. Predicted unknown sequences are available in [GRE_metaG.faa](./GRE_metaG.faa). \n",
    "\n",
    "\n",
    "### 2.2 Annotate metaG sequences and find closest homologs using eggNOG-mapper\n",
    "\n",
    "Upload [GRE_metaG.faa](./GRE_metaG.faa) to the online annotation tool [eggNOG-mapper](http://eggnogdb.embl.de/#/app/emapper?jobname=MM_kp096q). eggNOG-mapper will find the closest ortholog in the a global microbial reference database.  **For faster computation, choose HMMER mode and the Bacteria database**:\n",
    "\n",
    "<img src=\"imgs/eggnog-mapper.png\"  style=\"width: 500px;\"/>\n",
    "\n",
    "The annotation process using the online public service can take a while to finish. You can access the annotation results at http://eggnogdb.embl.de/#/app/emapper?jobname=MM_kp096q\n",
    "\n",
    "For large scale studies, the local version of eggnog-mapper is recommended."
   ]
  },
  {
   "cell_type": "markdown",
   "metadata": {
    "deletable": true,
    "editable": true
   },
   "source": [
    "### 2.3 Explore annotations and fetch reference sequences from the eggNOG database"
   ]
  },
  {
   "cell_type": "code",
   "execution_count": null,
   "metadata": {
    "collapsed": false,
    "deletable": true,
    "editable": true
   },
   "outputs": [],
   "source": [
    "%%bash \n",
    "# Download eggnog-mapper annotations\n",
    "wget http://eggnogdb.embl.de/MM_kp096q/GRE_metaG.faa.emapper.annotations -O GRE_metaG.faa.emapper.annotations 2> /dev/null\n",
    "\n",
    "# Inspect content\n",
    "cut -f1,2,5,10 GRE_metaG.faa.emapper.annotations|head -n5"
   ]
  },
  {
   "cell_type": "markdown",
   "metadata": {
    "deletable": true,
    "editable": true
   },
   "source": [
    "#### 2.3.1 Prepare sequences for phylogenetic analysis"
   ]
  },
  {
   "cell_type": "code",
   "execution_count": null,
   "metadata": {
    "collapsed": false,
    "deletable": true,
    "editable": true
   },
   "outputs": [],
   "source": [
    "%%bash\n",
    "# download all eggnog sequences from the matching OG superfamily\n",
    "wget http://eggnogapi.embl.de/nog_data/text/fasta/05C6N -O - 2>/dev/null | gunzip -c > GRE_eggnog_family.faa\n",
    "\n",
    "# Extract the names of all reference sequences (seed orthologs in eggnog-mapper results)\n",
    "cut -f2 GRE_metaG.faa.emapper.annotations|sort -u > GRE_ref_names.txt\n",
    "\n",
    "# and extract the ones considered reference seqs in our analysis  \n",
    "grep -f GRE_ref_names.txt -F -w GRE_eggnog_family.faa -A1|grep -v \"\\-\\-\" > GRE_ref_seqs.faa\n",
    "\n",
    "head -n4 GRE_ref_seqs.faa"
   ]
  },
  {
   "cell_type": "markdown",
   "metadata": {
    "deletable": true,
    "editable": true
   },
   "source": [
    "\n",
    "### 2.3 Phylogenetic analysis \n",
    "Put all sequences (references and metagenomics) in the same FASTA file and run phylogenetic analysis on them.\n",
    "For this, we will use the ETE toolkit, which provides both predefined phylogenetic reconstruction [workflows](  http://etetoolkit.org/documentation/ete-build/) and a [Python API](http://etetoolkit.org) to analyze the resulting trees. "
   ]
  },
  {
   "cell_type": "code",
   "execution_count": null,
   "metadata": {
    "collapsed": false,
    "deletable": true,
    "editable": true
   },
   "outputs": [],
   "source": [
    "%%bash \n",
    "# Concatenate all sequences into a single fasta file\n",
    "cat GRE_metaG.faa GRE_reference_seqs_from_paper.faa GRE_ref_seqs.faa > all_GRE_seqs.faa\n",
    "\n",
    "# Count total sequences in fasta file\n",
    "grep -c '>' all_GRE_seqs.faa"
   ]
  },
  {
   "cell_type": "code",
   "execution_count": null,
   "metadata": {
    "collapsed": false,
    "deletable": true,
    "editable": true
   },
   "outputs": [],
   "source": [
    "%%bash \n",
    "# Run phylogenetic reconstruction using ete3\n",
    "ete3 build -w mafft_default-none-none-fasttree_default -a all_GRE_seqs.faa -o GRE_tree -t2 --clearall --noimg"
   ]
  },
  {
   "cell_type": "markdown",
   "metadata": {
    "deletable": true,
    "editable": true
   },
   "source": [
    "### 2.4 Phylogenetic tree analysis using ETE toolkit"
   ]
  },
  {
   "cell_type": "markdown",
   "metadata": {
    "deletable": true,
    "editable": true
   },
   "source": [
    "#### 2.4.1 Load tree as a Python object and bind nodes to sequences in the original multiple sequence alignment\n"
   ]
  },
  {
   "cell_type": "code",
   "execution_count": null,
   "metadata": {
    "collapsed": false,
    "deletable": true,
    "editable": true
   },
   "outputs": [],
   "source": [
    "from ete3 import PhyloTree\n",
    "# Load tree and bind nodes to sequences in the original multiple sequence alignment\n",
    "t = PhyloTree(\"GRE_tree/mafft_default-none-none-fasttree_default/all_GRE_seqs.faa.final_tree.nw\")\n",
    "t.link_to_alignment(\"GRE_tree/mafft_default-none-none-fasttree_default/all_GRE_seqs.faa.final_tree.fa\")\n"
   ]
  },
  {
   "cell_type": "markdown",
   "metadata": {
    "deletable": true,
    "editable": true
   },
   "source": [
    "#### 2.4.2 Locate active sites in reference sequences"
   ]
  },
  {
   "cell_type": "code",
   "execution_count": null,
   "metadata": {
    "collapsed": false,
    "deletable": true,
    "editable": true
   },
   "outputs": [],
   "source": [
    "# Find active sites based on GRE literature in a known reference sequence. \n",
    "# See alignment figure under 1.2\n",
    "ref_seq =  (t & \"Q1A666_9FIRM\")\n",
    "a = ref_seq.sequence.find('HVT')\n",
    "b = ref_seq.sequence.find('HSI')\n",
    "c = ref_seq.sequence.find('FQN')\n",
    "d = ref_seq.sequence.find('CVE')\n",
    "e = ref_seq.sequence.find('DAA')\n",
    "f = ref_seq.sequence.find('YPV')\n",
    "g = ref_seq.sequence.find('GYS')\n",
    "\n",
    "# Collect active residues from all other sequences in the alignment\n",
    "for leaf_node in t:  \n",
    "    seq = \"\"\n",
    "    for pos in (a,b,c,d,e,f,g):        \n",
    "        seq += leaf_node.sequence[pos:pos+3]\n",
    "        seq += '-'\n",
    "    #print seq, x.name\n",
    "    leaf_node.active_residues = seq\n",
    "\n"
   ]
  },
  {
   "cell_type": "markdown",
   "metadata": {
    "deletable": true,
    "editable": true
   },
   "source": [
    "#### 2.4.3 Visualize phylogeny and active site variations"
   ]
  },
  {
   "cell_type": "code",
   "execution_count": null,
   "metadata": {
    "collapsed": false,
    "deletable": true,
    "editable": true
   },
   "outputs": [],
   "source": [
    "from ete3 import TreeStyle, SeqMotifFace, add_face_to_node\n",
    "\n",
    "# Visualize phylogenetic distribution of active residues\n",
    "def layout(node):\n",
    "    node.img_style[\"size\"] = 0\n",
    "    if node.is_leaf():\n",
    "        node.img_style[\"size\"] = 4\n",
    "        node.img_style[\"shape\"] = \"square\"\n",
    "        seq_img = SeqMotifFace(node.active_residues, seq_format=\"seq\", height=18)\n",
    "        add_face_to_node(seq_img, node, column=0, position='aligned')\n",
    "        if \"SAMEA\" in node.name:             \n",
    "            node.img_style[\"fgcolor\"] = 'red'\n",
    "        else:\n",
    "            node.img_style[\"fgcolor\"] = 'black'\n",
    "        \n",
    "ts = TreeStyle()\n",
    "#ts.show_branch_support = True\n",
    "ts.tree_width = 350\n",
    "ts.layout_fn = layout    \n",
    "t.render(\"%%inline\", tree_style=ts)"
   ]
  },
  {
   "cell_type": "markdown",
   "metadata": {
    "deletable": true,
    "editable": true
   },
   "source": [
    "# Index of tools"
   ]
  },
  {
   "cell_type": "code",
   "execution_count": null,
   "metadata": {
    "collapsed": false,
    "deletable": true,
    "editable": true
   },
   "outputs": [],
   "source": [
    "from IPython.display import HTML\n",
    "HTML('<iframe src=imgs/tools.pdf width=900 height=350></iframe>')\n"
   ]
  }
 ],
 "metadata": {
  "kernelspec": {
   "display_name": "Python 2",
   "language": "python",
   "name": "python2"
  },
  "language_info": {
   "codemirror_mode": {
    "name": "ipython",
    "version": 2
   },
   "file_extension": ".py",
   "mimetype": "text/x-python",
   "name": "python",
   "nbconvert_exporter": "python",
   "pygments_lexer": "ipython2",
   "version": "2.7.12"
  }
 },
 "nbformat": 4,
 "nbformat_minor": 0
}
